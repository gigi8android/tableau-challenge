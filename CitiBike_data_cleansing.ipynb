{
 "cells": [
  {
   "cell_type": "code",
   "execution_count": 1,
   "id": "b9bf502f",
   "metadata": {
    "ExecuteTime": {
     "end_time": "2022-04-03T09:23:19.937392Z",
     "start_time": "2022-04-03T09:23:17.946227Z"
    }
   },
   "outputs": [],
   "source": [
    "import pandas as pd\n",
    "import glob\n",
    "import os\n",
    "import datetime\n"
   ]
  },
  {
   "cell_type": "code",
   "execution_count": 2,
   "id": "772610dd",
   "metadata": {
    "ExecuteTime": {
     "end_time": "2022-04-03T09:23:21.976134Z",
     "start_time": "2022-04-03T09:23:19.939394Z"
    }
   },
   "outputs": [
    {
     "data": {
      "text/html": [
       "<div>\n",
       "<style scoped>\n",
       "    .dataframe tbody tr th:only-of-type {\n",
       "        vertical-align: middle;\n",
       "    }\n",
       "\n",
       "    .dataframe tbody tr th {\n",
       "        vertical-align: top;\n",
       "    }\n",
       "\n",
       "    .dataframe thead th {\n",
       "        text-align: right;\n",
       "    }\n",
       "</style>\n",
       "<table border=\"1\" class=\"dataframe\">\n",
       "  <thead>\n",
       "    <tr style=\"text-align: right;\">\n",
       "      <th></th>\n",
       "      <th>tripduration</th>\n",
       "      <th>starttime</th>\n",
       "      <th>stoptime</th>\n",
       "      <th>start station id</th>\n",
       "      <th>start station name</th>\n",
       "      <th>start station latitude</th>\n",
       "      <th>start station longitude</th>\n",
       "      <th>end station id</th>\n",
       "      <th>end station name</th>\n",
       "      <th>end station latitude</th>\n",
       "      <th>end station longitude</th>\n",
       "      <th>bikeid</th>\n",
       "      <th>usertype</th>\n",
       "      <th>birth year</th>\n",
       "      <th>gender</th>\n",
       "    </tr>\n",
       "  </thead>\n",
       "  <tbody>\n",
       "    <tr>\n",
       "      <th>0</th>\n",
       "      <td>226</td>\n",
       "      <td>2020-01-01 00:04:50.192</td>\n",
       "      <td>2020-01-01 00:08:37.037</td>\n",
       "      <td>3186</td>\n",
       "      <td>Grove St PATH</td>\n",
       "      <td>40.719586</td>\n",
       "      <td>-74.043117</td>\n",
       "      <td>3211</td>\n",
       "      <td>Newark Ave</td>\n",
       "      <td>40.721525</td>\n",
       "      <td>-74.046305</td>\n",
       "      <td>29444</td>\n",
       "      <td>Subscriber</td>\n",
       "      <td>1984</td>\n",
       "      <td>2</td>\n",
       "    </tr>\n",
       "    <tr>\n",
       "      <th>1</th>\n",
       "      <td>377</td>\n",
       "      <td>2020-01-01 00:16:01.670</td>\n",
       "      <td>2020-01-01 00:22:19.080</td>\n",
       "      <td>3186</td>\n",
       "      <td>Grove St PATH</td>\n",
       "      <td>40.719586</td>\n",
       "      <td>-74.043117</td>\n",
       "      <td>3269</td>\n",
       "      <td>Brunswick &amp; 6th</td>\n",
       "      <td>40.726012</td>\n",
       "      <td>-74.050389</td>\n",
       "      <td>26305</td>\n",
       "      <td>Subscriber</td>\n",
       "      <td>1989</td>\n",
       "      <td>2</td>\n",
       "    </tr>\n",
       "    <tr>\n",
       "      <th>2</th>\n",
       "      <td>288</td>\n",
       "      <td>2020-01-01 00:17:33.877</td>\n",
       "      <td>2020-01-01 00:22:22.442</td>\n",
       "      <td>3186</td>\n",
       "      <td>Grove St PATH</td>\n",
       "      <td>40.719586</td>\n",
       "      <td>-74.043117</td>\n",
       "      <td>3269</td>\n",
       "      <td>Brunswick &amp; 6th</td>\n",
       "      <td>40.726012</td>\n",
       "      <td>-74.050389</td>\n",
       "      <td>29268</td>\n",
       "      <td>Customer</td>\n",
       "      <td>1989</td>\n",
       "      <td>1</td>\n",
       "    </tr>\n",
       "    <tr>\n",
       "      <th>3</th>\n",
       "      <td>435</td>\n",
       "      <td>2020-01-01 00:32:05.902</td>\n",
       "      <td>2020-01-01 00:39:21.066</td>\n",
       "      <td>3195</td>\n",
       "      <td>Sip Ave</td>\n",
       "      <td>40.730897</td>\n",
       "      <td>-74.063913</td>\n",
       "      <td>3280</td>\n",
       "      <td>Astor Place</td>\n",
       "      <td>40.719282</td>\n",
       "      <td>-74.071262</td>\n",
       "      <td>29278</td>\n",
       "      <td>Customer</td>\n",
       "      <td>1969</td>\n",
       "      <td>0</td>\n",
       "    </tr>\n",
       "    <tr>\n",
       "      <th>4</th>\n",
       "      <td>231</td>\n",
       "      <td>2020-01-01 00:46:19.678</td>\n",
       "      <td>2020-01-01 00:50:11.344</td>\n",
       "      <td>3186</td>\n",
       "      <td>Grove St PATH</td>\n",
       "      <td>40.719586</td>\n",
       "      <td>-74.043117</td>\n",
       "      <td>3276</td>\n",
       "      <td>Marin Light Rail</td>\n",
       "      <td>40.714584</td>\n",
       "      <td>-74.042817</td>\n",
       "      <td>29276</td>\n",
       "      <td>Subscriber</td>\n",
       "      <td>1983</td>\n",
       "      <td>2</td>\n",
       "    </tr>\n",
       "  </tbody>\n",
       "</table>\n",
       "</div>"
      ],
      "text/plain": [
       "   tripduration                starttime                 stoptime  \\\n",
       "0           226  2020-01-01 00:04:50.192  2020-01-01 00:08:37.037   \n",
       "1           377  2020-01-01 00:16:01.670  2020-01-01 00:22:19.080   \n",
       "2           288  2020-01-01 00:17:33.877  2020-01-01 00:22:22.442   \n",
       "3           435  2020-01-01 00:32:05.902  2020-01-01 00:39:21.066   \n",
       "4           231  2020-01-01 00:46:19.678  2020-01-01 00:50:11.344   \n",
       "\n",
       "   start station id start station name  start station latitude  \\\n",
       "0              3186      Grove St PATH               40.719586   \n",
       "1              3186      Grove St PATH               40.719586   \n",
       "2              3186      Grove St PATH               40.719586   \n",
       "3              3195            Sip Ave               40.730897   \n",
       "4              3186      Grove St PATH               40.719586   \n",
       "\n",
       "   start station longitude  end station id  end station name  \\\n",
       "0               -74.043117            3211        Newark Ave   \n",
       "1               -74.043117            3269   Brunswick & 6th   \n",
       "2               -74.043117            3269   Brunswick & 6th   \n",
       "3               -74.063913            3280       Astor Place   \n",
       "4               -74.043117            3276  Marin Light Rail   \n",
       "\n",
       "   end station latitude  end station longitude  bikeid    usertype  \\\n",
       "0             40.721525             -74.046305   29444  Subscriber   \n",
       "1             40.726012             -74.050389   26305  Subscriber   \n",
       "2             40.726012             -74.050389   29268    Customer   \n",
       "3             40.719282             -74.071262   29278    Customer   \n",
       "4             40.714584             -74.042817   29276  Subscriber   \n",
       "\n",
       "   birth year  gender  \n",
       "0        1984       2  \n",
       "1        1989       2  \n",
       "2        1989       1  \n",
       "3        1969       0  \n",
       "4        1983       2  "
      ]
     },
     "execution_count": 2,
     "metadata": {},
     "output_type": "execute_result"
    }
   ],
   "source": [
    "df = pd.concat(map(pd.read_csv, glob.glob(os.path.join(\"./data\", \"*.csv\"))), ignore_index= True)\n",
    "df.head()"
   ]
  },
  {
   "cell_type": "code",
   "execution_count": 3,
   "id": "2087c6a1",
   "metadata": {
    "ExecuteTime": {
     "end_time": "2022-04-03T09:23:22.179326Z",
     "start_time": "2022-04-03T09:23:21.978134Z"
    }
   },
   "outputs": [
    {
     "name": "stdout",
     "output_type": "stream",
     "text": [
      "<class 'pandas.core.frame.DataFrame'>\n",
      "RangeIndex: 696852 entries, 0 to 696851\n",
      "Data columns (total 15 columns):\n",
      " #   Column                   Non-Null Count   Dtype  \n",
      "---  ------                   --------------   -----  \n",
      " 0   tripduration             696852 non-null  int64  \n",
      " 1   starttime                696852 non-null  object \n",
      " 2   stoptime                 696852 non-null  object \n",
      " 3   start station id         696852 non-null  int64  \n",
      " 4   start station name       696852 non-null  object \n",
      " 5   start station latitude   696852 non-null  float64\n",
      " 6   start station longitude  696852 non-null  float64\n",
      " 7   end station id           696852 non-null  int64  \n",
      " 8   end station name         696852 non-null  object \n",
      " 9   end station latitude     696852 non-null  float64\n",
      " 10  end station longitude    696852 non-null  float64\n",
      " 11  bikeid                   696852 non-null  int64  \n",
      " 12  usertype                 696852 non-null  object \n",
      " 13  birth year               696852 non-null  int64  \n",
      " 14  gender                   696852 non-null  int64  \n",
      "dtypes: float64(4), int64(6), object(5)\n",
      "memory usage: 79.7+ MB\n"
     ]
    }
   ],
   "source": [
    "df.info()"
   ]
  },
  {
   "cell_type": "code",
   "execution_count": 4,
   "id": "84f4e4ac",
   "metadata": {
    "ExecuteTime": {
     "end_time": "2022-04-03T09:23:22.210272Z",
     "start_time": "2022-04-03T09:23:22.189271Z"
    }
   },
   "outputs": [
    {
     "data": {
      "text/html": [
       "<div>\n",
       "<style scoped>\n",
       "    .dataframe tbody tr th:only-of-type {\n",
       "        vertical-align: middle;\n",
       "    }\n",
       "\n",
       "    .dataframe tbody tr th {\n",
       "        vertical-align: top;\n",
       "    }\n",
       "\n",
       "    .dataframe thead th {\n",
       "        text-align: right;\n",
       "    }\n",
       "</style>\n",
       "<table border=\"1\" class=\"dataframe\">\n",
       "  <thead>\n",
       "    <tr style=\"text-align: right;\">\n",
       "      <th></th>\n",
       "      <th>tripduration</th>\n",
       "      <th>starttime</th>\n",
       "      <th>stoptime</th>\n",
       "      <th>start station id</th>\n",
       "      <th>start station name</th>\n",
       "      <th>start station latitude</th>\n",
       "      <th>start station longitude</th>\n",
       "      <th>end station id</th>\n",
       "      <th>end station name</th>\n",
       "      <th>end station latitude</th>\n",
       "      <th>end station longitude</th>\n",
       "      <th>bikeid</th>\n",
       "      <th>usertype</th>\n",
       "      <th>birth year</th>\n",
       "      <th>gender</th>\n",
       "    </tr>\n",
       "  </thead>\n",
       "  <tbody>\n",
       "    <tr>\n",
       "      <th>0</th>\n",
       "      <td>226</td>\n",
       "      <td>2020-01-01 00:04:50.192</td>\n",
       "      <td>2020-01-01 00:08:37.037</td>\n",
       "      <td>3186</td>\n",
       "      <td>Grove St PATH</td>\n",
       "      <td>40.719586</td>\n",
       "      <td>-74.043117</td>\n",
       "      <td>3211</td>\n",
       "      <td>Newark Ave</td>\n",
       "      <td>40.721525</td>\n",
       "      <td>-74.046305</td>\n",
       "      <td>29444</td>\n",
       "      <td>Subscriber</td>\n",
       "      <td>1984</td>\n",
       "      <td>2</td>\n",
       "    </tr>\n",
       "    <tr>\n",
       "      <th>1</th>\n",
       "      <td>377</td>\n",
       "      <td>2020-01-01 00:16:01.670</td>\n",
       "      <td>2020-01-01 00:22:19.080</td>\n",
       "      <td>3186</td>\n",
       "      <td>Grove St PATH</td>\n",
       "      <td>40.719586</td>\n",
       "      <td>-74.043117</td>\n",
       "      <td>3269</td>\n",
       "      <td>Brunswick &amp; 6th</td>\n",
       "      <td>40.726012</td>\n",
       "      <td>-74.050389</td>\n",
       "      <td>26305</td>\n",
       "      <td>Subscriber</td>\n",
       "      <td>1989</td>\n",
       "      <td>2</td>\n",
       "    </tr>\n",
       "    <tr>\n",
       "      <th>2</th>\n",
       "      <td>288</td>\n",
       "      <td>2020-01-01 00:17:33.877</td>\n",
       "      <td>2020-01-01 00:22:22.442</td>\n",
       "      <td>3186</td>\n",
       "      <td>Grove St PATH</td>\n",
       "      <td>40.719586</td>\n",
       "      <td>-74.043117</td>\n",
       "      <td>3269</td>\n",
       "      <td>Brunswick &amp; 6th</td>\n",
       "      <td>40.726012</td>\n",
       "      <td>-74.050389</td>\n",
       "      <td>29268</td>\n",
       "      <td>Customer</td>\n",
       "      <td>1989</td>\n",
       "      <td>1</td>\n",
       "    </tr>\n",
       "    <tr>\n",
       "      <th>3</th>\n",
       "      <td>435</td>\n",
       "      <td>2020-01-01 00:32:05.902</td>\n",
       "      <td>2020-01-01 00:39:21.066</td>\n",
       "      <td>3195</td>\n",
       "      <td>Sip Ave</td>\n",
       "      <td>40.730897</td>\n",
       "      <td>-74.063913</td>\n",
       "      <td>3280</td>\n",
       "      <td>Astor Place</td>\n",
       "      <td>40.719282</td>\n",
       "      <td>-74.071262</td>\n",
       "      <td>29278</td>\n",
       "      <td>Customer</td>\n",
       "      <td>1969</td>\n",
       "      <td>0</td>\n",
       "    </tr>\n",
       "    <tr>\n",
       "      <th>4</th>\n",
       "      <td>231</td>\n",
       "      <td>2020-01-01 00:46:19.678</td>\n",
       "      <td>2020-01-01 00:50:11.344</td>\n",
       "      <td>3186</td>\n",
       "      <td>Grove St PATH</td>\n",
       "      <td>40.719586</td>\n",
       "      <td>-74.043117</td>\n",
       "      <td>3276</td>\n",
       "      <td>Marin Light Rail</td>\n",
       "      <td>40.714584</td>\n",
       "      <td>-74.042817</td>\n",
       "      <td>29276</td>\n",
       "      <td>Subscriber</td>\n",
       "      <td>1983</td>\n",
       "      <td>2</td>\n",
       "    </tr>\n",
       "  </tbody>\n",
       "</table>\n",
       "</div>"
      ],
      "text/plain": [
       "   tripduration                starttime                 stoptime  \\\n",
       "0           226  2020-01-01 00:04:50.192  2020-01-01 00:08:37.037   \n",
       "1           377  2020-01-01 00:16:01.670  2020-01-01 00:22:19.080   \n",
       "2           288  2020-01-01 00:17:33.877  2020-01-01 00:22:22.442   \n",
       "3           435  2020-01-01 00:32:05.902  2020-01-01 00:39:21.066   \n",
       "4           231  2020-01-01 00:46:19.678  2020-01-01 00:50:11.344   \n",
       "\n",
       "   start station id start station name  start station latitude  \\\n",
       "0              3186      Grove St PATH               40.719586   \n",
       "1              3186      Grove St PATH               40.719586   \n",
       "2              3186      Grove St PATH               40.719586   \n",
       "3              3195            Sip Ave               40.730897   \n",
       "4              3186      Grove St PATH               40.719586   \n",
       "\n",
       "   start station longitude  end station id  end station name  \\\n",
       "0               -74.043117            3211        Newark Ave   \n",
       "1               -74.043117            3269   Brunswick & 6th   \n",
       "2               -74.043117            3269   Brunswick & 6th   \n",
       "3               -74.063913            3280       Astor Place   \n",
       "4               -74.043117            3276  Marin Light Rail   \n",
       "\n",
       "   end station latitude  end station longitude  bikeid    usertype  \\\n",
       "0             40.721525             -74.046305   29444  Subscriber   \n",
       "1             40.726012             -74.050389   26305  Subscriber   \n",
       "2             40.726012             -74.050389   29268    Customer   \n",
       "3             40.719282             -74.071262   29278    Customer   \n",
       "4             40.714584             -74.042817   29276  Subscriber   \n",
       "\n",
       "   birth year  gender  \n",
       "0        1984       2  \n",
       "1        1989       2  \n",
       "2        1989       1  \n",
       "3        1969       0  \n",
       "4        1983       2  "
      ]
     },
     "execution_count": 4,
     "metadata": {},
     "output_type": "execute_result"
    }
   ],
   "source": [
    "df.head()"
   ]
  },
  {
   "cell_type": "code",
   "execution_count": 5,
   "id": "31431627",
   "metadata": {
    "ExecuteTime": {
     "end_time": "2022-04-03T09:23:22.370024Z",
     "start_time": "2022-04-03T09:23:22.212274Z"
    }
   },
   "outputs": [
    {
     "data": {
      "text/plain": [
       "False"
      ]
     },
     "execution_count": 5,
     "metadata": {},
     "output_type": "execute_result"
    }
   ],
   "source": [
    "df.isnull().values.any()"
   ]
  },
  {
   "cell_type": "code",
   "execution_count": 6,
   "id": "91b75853",
   "metadata": {
    "ExecuteTime": {
     "end_time": "2022-04-03T09:23:22.525497Z",
     "start_time": "2022-04-03T09:23:22.371025Z"
    }
   },
   "outputs": [
    {
     "data": {
      "text/plain": [
       "tripduration               0\n",
       "starttime                  0\n",
       "stoptime                   0\n",
       "start station id           0\n",
       "start station name         0\n",
       "start station latitude     0\n",
       "start station longitude    0\n",
       "end station id             0\n",
       "end station name           0\n",
       "end station latitude       0\n",
       "end station longitude      0\n",
       "bikeid                     0\n",
       "usertype                   0\n",
       "birth year                 0\n",
       "gender                     0\n",
       "dtype: int64"
      ]
     },
     "execution_count": 6,
     "metadata": {},
     "output_type": "execute_result"
    }
   ],
   "source": [
    "df.isnull().sum()"
   ]
  },
  {
   "cell_type": "code",
   "execution_count": 7,
   "id": "158457f9",
   "metadata": {
    "ExecuteTime": {
     "end_time": "2022-04-03T09:23:23.483026Z",
     "start_time": "2022-04-03T09:23:22.531508Z"
    }
   },
   "outputs": [],
   "source": [
    "df[\"starttime\"] = pd.to_datetime(df[\"starttime\"])\n",
    "df[\"stoptime\"] = pd.to_datetime(df[\"stoptime\"])"
   ]
  },
  {
   "cell_type": "code",
   "execution_count": 8,
   "id": "12d2b135",
   "metadata": {
    "ExecuteTime": {
     "end_time": "2022-04-03T09:23:23.593081Z",
     "start_time": "2022-04-03T09:23:23.485034Z"
    }
   },
   "outputs": [
    {
     "name": "stdout",
     "output_type": "stream",
     "text": [
      "<class 'pandas.core.frame.DataFrame'>\n",
      "RangeIndex: 696852 entries, 0 to 696851\n",
      "Data columns (total 15 columns):\n",
      " #   Column                   Non-Null Count   Dtype         \n",
      "---  ------                   --------------   -----         \n",
      " 0   tripduration             696852 non-null  int64         \n",
      " 1   starttime                696852 non-null  datetime64[ns]\n",
      " 2   stoptime                 696852 non-null  datetime64[ns]\n",
      " 3   start station id         696852 non-null  int64         \n",
      " 4   start station name       696852 non-null  object        \n",
      " 5   start station latitude   696852 non-null  float64       \n",
      " 6   start station longitude  696852 non-null  float64       \n",
      " 7   end station id           696852 non-null  int64         \n",
      " 8   end station name         696852 non-null  object        \n",
      " 9   end station latitude     696852 non-null  float64       \n",
      " 10  end station longitude    696852 non-null  float64       \n",
      " 11  bikeid                   696852 non-null  int64         \n",
      " 12  usertype                 696852 non-null  object        \n",
      " 13  birth year               696852 non-null  int64         \n",
      " 14  gender                   696852 non-null  int64         \n",
      "dtypes: datetime64[ns](2), float64(4), int64(6), object(3)\n",
      "memory usage: 79.7+ MB\n"
     ]
    }
   ],
   "source": [
    "df.info()"
   ]
  },
  {
   "cell_type": "code",
   "execution_count": 9,
   "id": "2d6c86e3",
   "metadata": {
    "ExecuteTime": {
     "end_time": "2022-04-03T09:23:23.624069Z",
     "start_time": "2022-04-03T09:23:23.596065Z"
    }
   },
   "outputs": [
    {
     "data": {
      "text/html": [
       "<div>\n",
       "<style scoped>\n",
       "    .dataframe tbody tr th:only-of-type {\n",
       "        vertical-align: middle;\n",
       "    }\n",
       "\n",
       "    .dataframe tbody tr th {\n",
       "        vertical-align: top;\n",
       "    }\n",
       "\n",
       "    .dataframe thead th {\n",
       "        text-align: right;\n",
       "    }\n",
       "</style>\n",
       "<table border=\"1\" class=\"dataframe\">\n",
       "  <thead>\n",
       "    <tr style=\"text-align: right;\">\n",
       "      <th></th>\n",
       "      <th>tripduration</th>\n",
       "      <th>starttime</th>\n",
       "      <th>stoptime</th>\n",
       "      <th>start station id</th>\n",
       "      <th>start station name</th>\n",
       "      <th>start station latitude</th>\n",
       "      <th>start station longitude</th>\n",
       "      <th>end station id</th>\n",
       "      <th>end station name</th>\n",
       "      <th>end station latitude</th>\n",
       "      <th>end station longitude</th>\n",
       "      <th>bikeid</th>\n",
       "      <th>usertype</th>\n",
       "      <th>birth year</th>\n",
       "      <th>gender</th>\n",
       "    </tr>\n",
       "  </thead>\n",
       "  <tbody>\n",
       "    <tr>\n",
       "      <th>0</th>\n",
       "      <td>226</td>\n",
       "      <td>2020-01-01 00:04:50.192</td>\n",
       "      <td>2020-01-01 00:08:37.037</td>\n",
       "      <td>3186</td>\n",
       "      <td>Grove St PATH</td>\n",
       "      <td>40.719586</td>\n",
       "      <td>-74.043117</td>\n",
       "      <td>3211</td>\n",
       "      <td>Newark Ave</td>\n",
       "      <td>40.721525</td>\n",
       "      <td>-74.046305</td>\n",
       "      <td>29444</td>\n",
       "      <td>Subscriber</td>\n",
       "      <td>1984</td>\n",
       "      <td>2</td>\n",
       "    </tr>\n",
       "    <tr>\n",
       "      <th>1</th>\n",
       "      <td>377</td>\n",
       "      <td>2020-01-01 00:16:01.670</td>\n",
       "      <td>2020-01-01 00:22:19.080</td>\n",
       "      <td>3186</td>\n",
       "      <td>Grove St PATH</td>\n",
       "      <td>40.719586</td>\n",
       "      <td>-74.043117</td>\n",
       "      <td>3269</td>\n",
       "      <td>Brunswick &amp; 6th</td>\n",
       "      <td>40.726012</td>\n",
       "      <td>-74.050389</td>\n",
       "      <td>26305</td>\n",
       "      <td>Subscriber</td>\n",
       "      <td>1989</td>\n",
       "      <td>2</td>\n",
       "    </tr>\n",
       "    <tr>\n",
       "      <th>2</th>\n",
       "      <td>288</td>\n",
       "      <td>2020-01-01 00:17:33.877</td>\n",
       "      <td>2020-01-01 00:22:22.442</td>\n",
       "      <td>3186</td>\n",
       "      <td>Grove St PATH</td>\n",
       "      <td>40.719586</td>\n",
       "      <td>-74.043117</td>\n",
       "      <td>3269</td>\n",
       "      <td>Brunswick &amp; 6th</td>\n",
       "      <td>40.726012</td>\n",
       "      <td>-74.050389</td>\n",
       "      <td>29268</td>\n",
       "      <td>Customer</td>\n",
       "      <td>1989</td>\n",
       "      <td>1</td>\n",
       "    </tr>\n",
       "    <tr>\n",
       "      <th>3</th>\n",
       "      <td>435</td>\n",
       "      <td>2020-01-01 00:32:05.902</td>\n",
       "      <td>2020-01-01 00:39:21.066</td>\n",
       "      <td>3195</td>\n",
       "      <td>Sip Ave</td>\n",
       "      <td>40.730897</td>\n",
       "      <td>-74.063913</td>\n",
       "      <td>3280</td>\n",
       "      <td>Astor Place</td>\n",
       "      <td>40.719282</td>\n",
       "      <td>-74.071262</td>\n",
       "      <td>29278</td>\n",
       "      <td>Customer</td>\n",
       "      <td>1969</td>\n",
       "      <td>0</td>\n",
       "    </tr>\n",
       "    <tr>\n",
       "      <th>4</th>\n",
       "      <td>231</td>\n",
       "      <td>2020-01-01 00:46:19.678</td>\n",
       "      <td>2020-01-01 00:50:11.344</td>\n",
       "      <td>3186</td>\n",
       "      <td>Grove St PATH</td>\n",
       "      <td>40.719586</td>\n",
       "      <td>-74.043117</td>\n",
       "      <td>3276</td>\n",
       "      <td>Marin Light Rail</td>\n",
       "      <td>40.714584</td>\n",
       "      <td>-74.042817</td>\n",
       "      <td>29276</td>\n",
       "      <td>Subscriber</td>\n",
       "      <td>1983</td>\n",
       "      <td>2</td>\n",
       "    </tr>\n",
       "  </tbody>\n",
       "</table>\n",
       "</div>"
      ],
      "text/plain": [
       "   tripduration               starttime                stoptime  \\\n",
       "0           226 2020-01-01 00:04:50.192 2020-01-01 00:08:37.037   \n",
       "1           377 2020-01-01 00:16:01.670 2020-01-01 00:22:19.080   \n",
       "2           288 2020-01-01 00:17:33.877 2020-01-01 00:22:22.442   \n",
       "3           435 2020-01-01 00:32:05.902 2020-01-01 00:39:21.066   \n",
       "4           231 2020-01-01 00:46:19.678 2020-01-01 00:50:11.344   \n",
       "\n",
       "   start station id start station name  start station latitude  \\\n",
       "0              3186      Grove St PATH               40.719586   \n",
       "1              3186      Grove St PATH               40.719586   \n",
       "2              3186      Grove St PATH               40.719586   \n",
       "3              3195            Sip Ave               40.730897   \n",
       "4              3186      Grove St PATH               40.719586   \n",
       "\n",
       "   start station longitude  end station id  end station name  \\\n",
       "0               -74.043117            3211        Newark Ave   \n",
       "1               -74.043117            3269   Brunswick & 6th   \n",
       "2               -74.043117            3269   Brunswick & 6th   \n",
       "3               -74.063913            3280       Astor Place   \n",
       "4               -74.043117            3276  Marin Light Rail   \n",
       "\n",
       "   end station latitude  end station longitude  bikeid    usertype  \\\n",
       "0             40.721525             -74.046305   29444  Subscriber   \n",
       "1             40.726012             -74.050389   26305  Subscriber   \n",
       "2             40.726012             -74.050389   29268    Customer   \n",
       "3             40.719282             -74.071262   29278    Customer   \n",
       "4             40.714584             -74.042817   29276  Subscriber   \n",
       "\n",
       "   birth year  gender  \n",
       "0        1984       2  \n",
       "1        1989       2  \n",
       "2        1989       1  \n",
       "3        1969       0  \n",
       "4        1983       2  "
      ]
     },
     "execution_count": 9,
     "metadata": {},
     "output_type": "execute_result"
    }
   ],
   "source": [
    "df.head()"
   ]
  },
  {
   "cell_type": "code",
   "execution_count": 17,
   "id": "67732735",
   "metadata": {
    "ExecuteTime": {
     "end_time": "2022-04-03T09:27:43.825706Z",
     "start_time": "2022-04-03T09:27:43.810690Z"
    }
   },
   "outputs": [
    {
     "data": {
      "text/plain": [
       "2667      1888\n",
       "3193      1888\n",
       "6682      1888\n",
       "7949      1888\n",
       "11171     1888\n",
       "          ... \n",
       "350956    1941\n",
       "350983    1941\n",
       "350996    1941\n",
       "351029    1941\n",
       "483672    1941\n",
       "Name: birth year, Length: 70, dtype: int64"
      ]
     },
     "execution_count": 17,
     "metadata": {},
     "output_type": "execute_result"
    }
   ],
   "source": [
    "df[\"birth year\"].nsmallest(n=70)"
   ]
  },
  {
   "cell_type": "code",
   "execution_count": 20,
   "id": "5c4bf761",
   "metadata": {
    "ExecuteTime": {
     "end_time": "2022-04-03T09:28:17.459886Z",
     "start_time": "2022-04-03T09:28:17.441876Z"
    }
   },
   "outputs": [
    {
     "data": {
      "text/plain": [
       "2667"
      ]
     },
     "execution_count": 20,
     "metadata": {},
     "output_type": "execute_result"
    }
   ],
   "source": [
    "df[\"birth year\"].idxmin()"
   ]
  },
  {
   "cell_type": "code",
   "execution_count": 10,
   "id": "aaa83e58",
   "metadata": {
    "ExecuteTime": {
     "end_time": "2022-04-03T09:23:30.887667Z",
     "start_time": "2022-04-03T09:23:23.629072Z"
    }
   },
   "outputs": [],
   "source": [
    "df.to_csv(\"./data/JC-2020-data.csv\", index=False)"
   ]
  },
  {
   "cell_type": "code",
   "execution_count": null,
   "id": "3bea4650",
   "metadata": {},
   "outputs": [],
   "source": []
  }
 ],
 "metadata": {
  "kernelspec": {
   "display_name": "Python 3 (ipykernel)",
   "language": "python",
   "name": "python3"
  },
  "language_info": {
   "codemirror_mode": {
    "name": "ipython",
    "version": 3
   },
   "file_extension": ".py",
   "mimetype": "text/x-python",
   "name": "python",
   "nbconvert_exporter": "python",
   "pygments_lexer": "ipython3",
   "version": "3.9.7"
  }
 },
 "nbformat": 4,
 "nbformat_minor": 5
}
